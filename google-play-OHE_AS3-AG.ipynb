{
 "cells": [
  {
   "cell_type": "code",
   "execution_count": 1,
   "metadata": {},
   "outputs": [],
   "source": [
    "import sys\n",
    "sys.path.append(\"D:\\python\\lib\\site-packages\")\n",
    "\n",
    "%matplotlib inline\n",
    "import matplotlib.pyplot as plt\n",
    "import numpy as np\n",
    "import scipy.io as io\n",
    "import pandas as pd\n",
    "\n",
    "from sklearn import preprocessing, svm, utils\n",
    "from sklearn.svm import SVC, LinearSVC, NuSVC\n",
    "from sklearn.preprocessing import LabelEncoder, OneHotEncoder\n",
    "from sklearn.cluster import KMeans\n",
    "from sklearn.model_selection import train_test_split\n",
    "from sklearn.metrics import accuracy_score, classification_report\n",
    "from sklearn.neighbors import KNeighborsClassifier\n",
    "from sklearn.naive_bayes import GaussianNB, MultinomialNB, BernoulliNB\n",
    "from sklearn.linear_model import LogisticRegression, SGDClassifier"
   ]
  },
  {
   "cell_type": "code",
   "execution_count": null,
   "metadata": {},
   "outputs": [],
   "source": [
    "data_app = pd.read_csv('./google-play-store-apps/googleplaystore.csv', sep=',')"
   ]
  },
  {
   "cell_type": "code",
   "execution_count": null,
   "metadata": {},
   "outputs": [],
   "source": [
    "pd.read_csv('./google-play-store-apps/googleplaystore.csv', sep=',',encoding=\"ISO-8859-1\")"
   ]
  },
  {
   "cell_type": "code",
   "execution_count": 2,
   "metadata": {},
   "outputs": [
    {
     "name": "stdout",
     "output_type": "stream",
     "text": [
      "(10841, 13)\n",
      "Index(['App', 'Category', 'Rating', 'Reviews', 'Size', 'Installs', 'Type',\n",
      "       'Price', 'Content Rating', 'Genres', 'Last Updated', 'Current Ver',\n",
      "       'Android Ver'],\n",
      "      dtype='object')\n"
     ]
    }
   ],
   "source": [
    "data_app = pd.read_csv('./google-play-store-apps/googleplaystore.csv', sep=',')\n",
    "print(data_app.shape)\n",
    "\n",
    "head = data_app.columns\n",
    "print(head)"
   ]
  },
  {
   "cell_type": "code",
   "execution_count": null,
   "metadata": {},
   "outputs": [],
   "source": []
  },
  {
   "cell_type": "code",
   "execution_count": 3,
   "metadata": {},
   "outputs": [
    {
     "name": "stdout",
     "output_type": "stream",
     "text": [
      "(10841, 13)\n",
      "----\n",
      "0 App\n",
      "1 Category\n",
      "2 Rating\n",
      "3 Reviews\n",
      "4 Size\n",
      "5 Installs\n",
      "6 Type\n",
      "7 Price\n",
      "8 Content Rating\n",
      "9 Genres\n",
      "10 Last Updated\n",
      "11 Current Ver\n",
      "12 Android Ver\n",
      "----\n",
      "THIS:  ['Life Made WI-Fi Touchscreen Photo Frame' '1.9' 19.0 '3.0M' '1,000+'\n",
      " 'Free' '0' 'Everyone' nan 'February 11, 2018' '1.0.19' '4.0 and up' nan]\n",
      "['U Launcher Lite – FREE Live Cool Themes, Hide Apps' 'ART_AND_DESIGN' 4.7\n",
      " '87510' '8.7' 5000000 0 '0' 'Everyone' 'Art & Design' 'August 1, 2018'\n",
      " '1.2.4' '4.0.3 and up']\n"
     ]
    }
   ],
   "source": [
    "print(data_app.shape)\n",
    "\n",
    "head = data_app.columns\n",
    "print(\"----\")\n",
    "for i in range(len(head)):\n",
    "    print(i, head[i])\n",
    "print(\"----\")\n",
    "\n",
    "data_app_c = np.array(data_app)\n",
    "\n",
    "i=0\n",
    "for i in range(len(data_app_c[:])):\n",
    "    if data_app_c[i][5] == \"Free\":\n",
    "        print(\"THIS: \", data_app_c[i])\n",
    "        data_app_c1 = np.delete(data_app_c, i, 0)\n",
    "\n",
    "data_app_c = data_app_c1\n",
    "\n",
    "\n",
    "i=0\n",
    "for i in range(len(data_app_c[:])):\n",
    "    for char in data_app_c[i][5]:\n",
    "        if char in \" ?.!/;:+,\":\n",
    "            data_app_c[i][5] = data_app_c[i][5].replace(char,'')\n",
    "    if float(data_app_c[i][5]) <= 100:\n",
    "        data_app_c[i][5] = 100\n",
    "    if float(data_app_c[i][5]) > 100 and int(data_app_c[i][5])<= 5000:\n",
    "        data_app_c[i][5] = 5000\n",
    "    if float(data_app_c[i][5]) > 5000 and int(data_app_c[i][5])<= 50000:\n",
    "        data_app_c[i][5] = 50000\n",
    "    if float(data_app_c[i][5]) > 50000 and int(data_app_c[i][5])<= 500000:\n",
    "        data_app_c[i][5] = 500000\n",
    "    if float(data_app_c[i][5]) > 500000 and int(data_app_c[i][5])<= 5000000:\n",
    "        data_app_c[i][5] = 5000000\n",
    "    if float(data_app_c[i][5]) > 5000000:\n",
    "        data_app_c[i][5] = 10000000\n",
    "        \n",
    "for i in range(len(data_app_c[:])):\n",
    "    if data_app_c[i][4].endswith(\"M\"):\n",
    "        data_app_c[i][4] = data_app_c[i][4][:-1]\n",
    "    if data_app_c[i][4] == \"Varies with device\":\n",
    "        data_app_c[i][4] = float(\"NaN\")\n",
    "    elif data_app_c[i][4].endswith(\"k\"):\n",
    "        data_app_c[i][4] = float(data_app_c[i][4][:-1])/1000\n",
    "    if data_app_c[i][2] == \"#¡NUM!\":\n",
    "        data_app_c[i][2] = float(\"NaN\")\n",
    "    if data_app_c[i][6] == 'Free':     #free is encoded as 0\n",
    "        data_app_c[i][6] = 0\n",
    "    if data_app_c[i][6] == 'Paid':     #paid is encoded as 1\n",
    "        data_app_c[i][6] = 1 \n",
    " \n",
    "print(data_app_c[2])\n"
   ]
  },
  {
   "cell_type": "code",
   "execution_count": 4,
   "metadata": {},
   "outputs": [
    {
     "name": "stdout",
     "output_type": "stream",
     "text": [
      "(10840, 13)\n",
      "(7723, 13)\n",
      "['U Launcher Lite – FREE Live Cool Themes, Hide Apps' 'ART_AND_DESIGN' 4.7\n",
      " '87510' '8.7' 5000000 0 '0' 'Everyone' 'Art & Design' 'August 1, 2018'\n",
      " '1.2.4' '4.0.3 and up']\n",
      "['U Launcher Lite – FREE Live Cool Themes, Hide Apps' 'ART_AND_DESIGN' 4.7\n",
      " '87510' '8.7' 5000000 0 '0' 'Everyone' 'Art & Design' 'August 1, 2018'\n",
      " '1.2.4' '4.0.3 and up']\n"
     ]
    }
   ],
   "source": [
    "data_app_cN = pd.DataFrame(data_app_c)\n",
    "data_app_cN = data_app_cN .dropna()\n",
    "\n",
    "data_app_cN = data_app_cN.values\n",
    "print(data_app_c.shape)\n",
    "print(data_app_cN.shape)\n",
    "\n",
    "print(data_app_c[2])\n",
    "print(data_app_cN[2])"
   ]
  },
  {
   "cell_type": "code",
   "execution_count": 5,
   "metadata": {},
   "outputs": [
    {
     "name": "stdout",
     "output_type": "stream",
     "text": [
      "(10840, 7)\n",
      "(7723, 7)\n",
      "----\n",
      "----\n",
      "0 Category\n",
      "1 Rating\n",
      "2 Reviews\n",
      "3 Size\n",
      "4 Installs\n",
      "5 Type\n",
      "6 Content Rating\n",
      "----\n"
     ]
    }
   ],
   "source": [
    "#transforming numerical values to float \n",
    "for i in range(len(data_app_c[:])):\n",
    "    data_app_c[i][2] = float(data_app_c[i][2]) #Rating\n",
    "    data_app_c[i][3] = float(data_app_c[i][3]) #Reviews\n",
    "    data_app_c[i][4] = float(data_app_c[i][4]) #Size\n",
    "    data_app_c[i][5] = int(data_app_c[i][5]) #Installs\n",
    "\n",
    "        \n",
    "#delete the name category for everything\n",
    "del_categories = [0, 7, 9, 10, 11, 12]\n",
    "data_app_c = np.delete(data_app_c, del_categories, 1)\n",
    "data_app_cN = np.delete(data_app_cN, del_categories, 1)\n",
    "head = np.delete(head, del_categories)\n",
    "\n",
    "print(data_app_c.shape)\n",
    "print(data_app_cN.shape)\n",
    "print(\"----\")\n",
    "\n",
    "\n",
    "print(\"----\")\n",
    "for i in range(len(head)):\n",
    "    print(i, head[i])\n",
    "print(\"----\")\n",
    "\n",
    "# columns = [1'Category', 2'Rating', 3'Reviews', 4'Size', 5 Installs', 6'Type', 7'Content Rating'])\n"
   ]
  },
  {
   "cell_type": "code",
   "execution_count": null,
   "metadata": {},
   "outputs": [],
   "source": [
    "# # print(data_app_c.isna().sum())\n",
    "\n",
    "# # print(data_app_c.isna().sum())\n",
    "# data_app_c.isnull().sum().sum()\n",
    "# data_app_c = data_app_c.dropna()\n",
    "# print(data_app_c.isnull().sum().sum())\n",
    "# data_app_c = data_app_c.reset_index()\n",
    "# data_app_c = data_app_c.values"
   ]
  },
  {
   "cell_type": "code",
   "execution_count": 6,
   "metadata": {},
   "outputs": [
    {
     "name": "stdout",
     "output_type": "stream",
     "text": [
      "[[0.0 4.1 159.0 ... 50000 0.0 1.0]\n",
      " [0.0 3.9 967.0 ... 500000 0.0 1.0]\n",
      " [0.0 4.7 87510.0 ... 5000000 0.0 1.0]\n",
      " ...\n",
      " [11.0 4.5 38.0 ... 5000 0.0 1.0]\n",
      " [11.0 5.0 4.0 ... 100 0.0 1.0]\n",
      " [18.0 4.5 398307.0 ... 10000000 0.0 1.0]]\n",
      "(7723, 7)\n"
     ]
    }
   ],
   "source": [
    "le = preprocessing.LabelEncoder()\n",
    "\n",
    "a = le.fit_transform(data_app_cN.T[0].astype(str)) #Category\n",
    "data_app_cN.T[0] = a\n",
    "a = le.fit_transform(data_app_cN.T[5].astype(str)) #Type\n",
    "data_app_cN.T[5] = a\n",
    "a = le.fit_transform(data_app_cN.T[6].astype(str)) #Content Rating\n",
    "data_app_cN.T[6] = a\n",
    "\n",
    "\n",
    "#transforming numerical values to float \n",
    "for i in range(len(data_app_cN[:])):\n",
    "    for h in range(len(head)):\n",
    "        data_app_cN[i][h] = float(data_app_cN[i][h])\n",
    "\n",
    "#transforming numerical values to float \n",
    "for i in range(len(data_app_cN[:])):\n",
    "    data_app_cN[i][4] = int(data_app_cN[i][4])\n",
    "\n",
    "# a = le.fit_transform(data_app_cN.T[0].astype(str)) #Category\n",
    "# data_app_cN.T[0] = a\n",
    "# a = le.fit_transform(data_app_cN.T[5].astype(str)) #Type\n",
    "# data_app_cN.T[5] = a\n",
    "# a = le.fit_transform(data_app_cN.T[6].astype(str)) #Content Rating\n",
    "# data_app_cN.T[6] = a\n",
    "\n",
    "\n",
    "# enc = preprocessing.OneHotEncoder()\n",
    "# enc.fit(data_app_cN)\n",
    "# onehotlabels = enc.transform(data_app_cN).toarray()\n",
    "# onehotlabels.shape\n",
    "\n",
    "# print(data_app_cN.shape)\n",
    "# print(data_app_cN)\n",
    "# print(onehotlabels.shape)\n",
    "# print(onehotlabels)\n",
    "\n",
    "\n",
    "print(data_app_cN)\n",
    "print(data_app_cN.shape)"
   ]
  },
  {
   "cell_type": "code",
   "execution_count": null,
   "metadata": {},
   "outputs": [],
   "source": []
  },
  {
   "cell_type": "code",
   "execution_count": null,
   "metadata": {},
   "outputs": [],
   "source": []
  },
  {
   "cell_type": "code",
   "execution_count": 7,
   "metadata": {},
   "outputs": [
    {
     "name": "stdout",
     "output_type": "stream",
     "text": [
      "[[1.0]\n",
      " [1.0]\n",
      " [1.0]\n",
      " ...\n",
      " [1.0]\n",
      " [4.0]\n",
      " [1.0]] [[4.0]\n",
      " [1.0]\n",
      " [1.0]\n",
      " ...\n",
      " [1.0]\n",
      " [1.0]\n",
      " [3.0]] [5000000 50000 50000 ... 10000000 5000000 5000] [500000 5000000 10000000 ... 5000 10000000 100]\n"
     ]
    },
    {
     "data": {
      "text/plain": [
       "SVC(C=1.0, cache_size=200, class_weight=None, coef0=0.0,\n",
       "  decision_function_shape='ovo', degree=3, gamma='scale', kernel='rbf',\n",
       "  max_iter=-1, probability=False, random_state=None, shrinking=True,\n",
       "  tol=0.001, verbose=False)"
      ]
     },
     "execution_count": 7,
     "metadata": {},
     "output_type": "execute_result"
    }
   ],
   "source": [
    "# split into input (X) and output (Y) variables\n",
    "#Xa = data_app_cN[:, [0, 1, 2, 3, 5, 6]]\n",
    "Xa = data_app_cN[:, [6]]\n",
    "Ya = data_app_cN[:,4]\n",
    "\n",
    "X_train, X_test, y_train, y_test = train_test_split(Xa, Ya, test_size=0.33, random_state=42)\n",
    "\n",
    "print(X_train, X_test, y_train, y_test)\n",
    "\n",
    "#print(utils.multiclass.type_of_target(y_train.astype('int')))\n",
    "\n",
    "clf = svm.SVC(decision_function_shape='ovo')\n",
    "clf.fit(X_train.astype('float'), y_train.astype('int'))\n",
    "SVC(C=1.0, cache_size=200, class_weight=None, coef0=0.0,\n",
    "    decision_function_shape='ovo', degree=3, gamma='scale', kernel='rbf',\n",
    "    max_iter=-1, probability=False, random_state=None, shrinking=True,\n",
    "    tol=0.001, verbose=False)"
   ]
  },
  {
   "cell_type": "code",
   "execution_count": 8,
   "metadata": {
    "scrolled": true
   },
   "outputs": [
    {
     "name": "stdout",
     "output_type": "stream",
     "text": [
      "(2549, 1)\n",
      "Accuracy score:  0.23264025107885444\n",
      "['100' '5000' '50000' '500000' '5000000' '10000000']\n",
      "             precision    recall  f1-score   support\n",
      "\n",
      "        100      0.000     0.000     0.000       139\n",
      "       5000      0.000     0.000     0.000       411\n",
      "      50000      0.000     0.000     0.000       463\n",
      "     500000      0.269     0.066     0.106       545\n",
      "    5000000      0.226     0.905     0.361       578\n",
      "   10000000      0.351     0.082     0.133       413\n",
      "\n",
      "avg / total      0.165     0.233     0.126      2549\n",
      "\n"
     ]
    },
    {
     "name": "stderr",
     "output_type": "stream",
     "text": [
      "D:\\Anaconda\\lib\\site-packages\\sklearn\\metrics\\classification.py:1135: UndefinedMetricWarning: Precision and F-score are ill-defined and being set to 0.0 in labels with no predicted samples.\n",
      "  'precision', 'predicted', average, warn_for)\n"
     ]
    }
   ],
   "source": [
    "pred = clf.predict(X_test.astype('float'))\n",
    "print(X_test.shape)\n",
    "\n",
    "print(\"Accuracy score: \", accuracy_score(y_test.astype('int'), pred.astype(\"int\")))\n",
    "\n",
    "install_win = np.unique(y_train.astype('int')).astype(\"str\")\n",
    "print(install_win)\n",
    "\n",
    "print(classification_report(y_test.astype('int'), pred.astype(\"int\"), target_names=install_win, sample_weight=None, digits=3))"
   ]
  },
  {
   "cell_type": "code",
   "execution_count": null,
   "metadata": {},
   "outputs": [],
   "source": [
    "gnb = GaussianNB()\n",
    "KNN = KNeighborsClassifier(n_neighbors=1)\n",
    "BNB = BernoulliNB()\n",
    "LR = LogisticRegression()\n",
    "SVC = SVC()\n",
    "SDG = SGDClassifier()\n",
    "LSVC = LinearSVC()\n",
    "\n",
    "x1, x2, y1, y2 = X_train, X_test, y_train, y_test\n",
    "\n",
    "# Train our classifier and test predict\n",
    "gnb.fit(x1.astype(\"float\"), y1.astype(\"int\"))\n",
    "y2_GNB_model = gnb.predict(x2.astype(\"float\"))\n",
    "print(\"GaussianNB Accuracy :\", accuracy_score(y2.astype(\"int\"), y2_GNB_model.astype(\"int\")))\n",
    "\n",
    "KNN.fit(x1.astype(\"float\"),y1.astype(\"int\"))\n",
    "y2_KNN_model = KNN.predict(x2.astype(\"float\"))\n",
    "print(\"KNN Accuracy :\", accuracy_score(y2.astype(\"int\"), y2_KNN_model.astype(\"int\")))\n",
    "\n",
    "BNB.fit(x1.astype(\"float\"),y1.astype(\"int\"))\n",
    "y2_BNB_model = BNB.predict(x2.astype(\"float\"))\n",
    "print(\"BNB Accuracy :\", accuracy_score(y2.astype(\"int\"), y2_BNB_model.astype(\"int\")))\n",
    "\n",
    "LR.fit(x1.astype(\"float\"),y1.astype(\"int\"))\n",
    "y2_LR_model = LR.predict(x2.astype(\"float\"))\n",
    "print(\"LR Accuracy :\", accuracy_score(y2.astype(\"int\"), y2_LR_model.astype(\"int\")))\n",
    "\n",
    "SDG.fit(x1.astype(\"float\"),y1.astype(\"int\"))\n",
    "y2_SDG_model = SDG.predict(x2.astype(\"float\"))\n",
    "print(\"SDG Accuracy :\", accuracy_score(y2.astype(\"int\"), y2_SDG_model.astype(\"int\")))\n",
    "\n",
    "SVC.fit(x1.astype(\"float\"),y1.astype(\"int\"))\n",
    "y2_SVC_model = SVC.predict(x2.astype(\"float\"))\n",
    "print(\"SVC Accuracy :\", accuracy_score(y2.astype(\"int\"), y2_SVC_model.astype(\"int\")))\n",
    "\n",
    "LSVC.fit(x1.astype(\"float\"),y1.astype(\"int\"))\n",
    "y2_LSVC_model = LSVC.predict(x2.astype(\"float\"))\n",
    "print(\"LSVC Accuracy :\", accuracy_score(y2.astype(\"int\"), y2_LSVC_model.astype(\"int\")))\n"
   ]
  },
  {
   "cell_type": "code",
   "execution_count": null,
   "metadata": {},
   "outputs": [],
   "source": []
  },
  {
   "cell_type": "code",
   "execution_count": null,
   "metadata": {},
   "outputs": [],
   "source": [
    "# fix random seed for reproducibility\n",
    "numpy.random.seed(7)"
   ]
  },
  {
   "cell_type": "code",
   "execution_count": null,
   "metadata": {},
   "outputs": [],
   "source": [
    "# split into input (X) and output (Y) variables\n",
    "X = data_app_cN[:, [0, 1, 2, 3, 5, 6]]\n",
    "Y = data_app_cN[:,4]"
   ]
  },
  {
   "cell_type": "code",
   "execution_count": null,
   "metadata": {},
   "outputs": [],
   "source": [
    "# create model\n",
    "model = Sequential()\n",
    "model.add(Dense(12, input_dim=7, init='uniform', activation='relu'))\n",
    "model.add(Dense(7, init='uniform', activation='relu'))\n",
    "model.add(Dense(1, init='uniform', activation='sigmoid'))\n",
    "# Compile model\n",
    "model.compile(loss='binary_crossentropy', optimizer='adam', metrics=['accuracy'])\n",
    "# Fit the model\n",
    "model.fit(X, Y, epochs=150, batch_size=10,  verbose=2)\n",
    "# calculate predictions\n",
    "predictions = model.predict(X)\n",
    "# round predictions\n",
    "rounded = [round(x[0]) for x in predictions]\n",
    "print(rounded)"
   ]
  },
  {
   "cell_type": "code",
   "execution_count": null,
   "metadata": {},
   "outputs": [],
   "source": []
  },
  {
   "cell_type": "code",
   "execution_count": null,
   "metadata": {},
   "outputs": [],
   "source": []
  },
  {
   "cell_type": "code",
   "execution_count": null,
   "metadata": {},
   "outputs": [],
   "source": [
    "pd.DataFrame(onehotlabels)"
   ]
  },
  {
   "cell_type": "code",
   "execution_count": null,
   "metadata": {},
   "outputs": [],
   "source": [
    "#print(pd.DataFrame.describe(pd.DataFrame(data_app_c[:, 4])))\n",
    "#print(\"--------\")\n",
    "n_samp = 7000\n",
    "\n",
    "data_app_c = onehotlabels\n",
    "\n",
    "random_idx = np.random.randint(0, len(data_app_c[:, 1]), n_samp)\n",
    "rating_t = data_app_c[:, 1][random_idx].astype(float)\n",
    "\n",
    "random_idx = np.random.randint(0, len(data_app_c[:, 2]), n_samp)\n",
    "review_t = data_app_c[:, 2][random_idx].astype(float)\n",
    "\n",
    "random_idx = np.random.randint(0, len(data_app_c[:, 4]), n_samp)\n",
    "installs_t = data_app_c[:, 4][random_idx].astype(int)\n",
    "\n",
    "\n",
    "\n",
    "\n",
    "\n",
    "plt.plot(review_t, alpha = 0.5, label = head[2])\n",
    "plt.title(head[2])\n",
    "\n",
    "plt.plot(installs_t, alpha = 0.5, label = head[4])\n",
    "plt.title(head[4])\n",
    "\n",
    "plt.plot(rating_t, alpha = 0.5, label = head[1])\n",
    "plt.title(head[4])\n",
    "\n",
    "plt.legend()"
   ]
  },
  {
   "cell_type": "markdown",
   "metadata": {},
   "source": [
    "#not sure what this should plot but it gives an error\n",
    "plt.figure(figsize=(10,10))\n",
    "\n",
    "i=0\n",
    "for i in enumerate(head):        \n",
    "    plt.subplot(5,5, i+1)\n",
    "    plt.hist(data_app_c[:,i])\n",
    "    plt.title(head[i])\n",
    "    plt.legend()\n",
    "    plt.tight_layout()"
   ]
  },
  {
   "cell_type": "code",
   "execution_count": null,
   "metadata": {},
   "outputs": [],
   "source": [
    "dataframe_app_c = pd.DataFrame(onehotlabels)\n",
    "dataframe_app_c.shape"
   ]
  },
  {
   "cell_type": "code",
   "execution_count": null,
   "metadata": {},
   "outputs": [],
   "source": [
    "# K-Means Clustering\n",
    "\n",
    "X = dataframe_app_c\n",
    "\n",
    "\n",
    "#REMOVED AOVE: App  object\n",
    "\n",
    "#Category           object\n",
    "#Rating            float64\n",
    "#Reviews            object\n",
    "#Size               object\n",
    "#Installs           object\n",
    "#Type               object\n",
    "#Price              object\n",
    "#Content Rating     object\n",
    "#Genres             object\n",
    "#Last Updated       object\n",
    "#Current Ver        object\n",
    "#Android Ver        object\n",
    "\n",
    "X = pd.DataFrame(X)\n",
    "X = X.convert_objects(convert_numeric=True)\n",
    "#X.columns = onehotlabels.T[:] #['Category', 'Rating', 'Reviews', 'Size', 'Installs', 'Type','Content Rating']\n",
    "\n",
    "# Eliminating null values\n",
    "#for i in X.columns:\n",
    "    #X[i] = X[i].fillna(int(X[i].mean()))\n",
    "#for i in X.columns:\n",
    "    #print(X[i].isnull().sum())\n",
    "    \n",
    "\n",
    "# Using the elbow method to find  the optimal number of clusters\n",
    "wcss = []\n",
    "for i in range(1,11):\n",
    "    kmeans = KMeans(n_clusters=i,init='k-means++',max_iter=300,n_init=10,random_state=0)\n",
    "    kmeans.fit(X)\n",
    "    wcss.append(kmeans.inertia_)\n",
    "plt.plot(range(1,11),wcss)\n",
    "plt.title('The Elbow Method')\n",
    "plt.xlabel('Number of clusters')\n",
    "plt.ylabel('WCSS')\n",
    "plt.show()\n",
    "\n",
    "# Applying k-means to the googleplaydata dataset\n",
    "kmeans = KMeans(n_clusters=4,init='k-means++',max_iter=300,n_init=10,random_state=0) \n",
    "y_kmeans = kmeans.fit_predict(X)\n",
    "\n",
    "X = X.as_matrix(columns=None)\n",
    "\n",
    "# Visualising the clusters\n",
    "plt.scatter(X[y_kmeans == 0, 0], X[y_kmeans == 0,1],s=100,c='red',label='C1')\n",
    "plt.scatter(X[y_kmeans == 1, 0], X[y_kmeans == 1,1],s=100,c='blue',label='C2')\n",
    "plt.scatter(X[y_kmeans == 2, 0], X[y_kmeans == 2,1],s=100,c='green',label='C3')\n",
    "plt.scatter(kmeans.cluster_centers_[:,0],kmeans.cluster_centers_[:,1],s=300,c='yellow',label='Centroids')\n",
    "plt.title('Clusters of apps')\n",
    "plt.legend()\n",
    "plt.show()"
   ]
  },
  {
   "cell_type": "code",
   "execution_count": null,
   "metadata": {},
   "outputs": [],
   "source": [
    "from __future__ import absolute_import, division, print_function\n",
    "\n",
    "# TensorFlow and tf.keras\n",
    "import tensorflow as tf\n",
    "from tensorflow import keras\n",
    "\n",
    "# Helper libraries\n",
    "import numpy as np\n",
    "import matplotlib.pyplot as plt\n",
    "\n",
    "print(tf.__version__)"
   ]
  },
  {
   "cell_type": "code",
   "execution_count": null,
   "metadata": {},
   "outputs": [],
   "source": []
  }
 ],
 "metadata": {
  "kernelspec": {
   "display_name": "Python 3",
   "language": "python",
   "name": "python3"
  },
  "language_info": {
   "codemirror_mode": {
    "name": "ipython",
    "version": 3
   },
   "file_extension": ".py",
   "mimetype": "text/x-python",
   "name": "python",
   "nbconvert_exporter": "python",
   "pygments_lexer": "ipython3",
   "version": "3.7.0"
  }
 },
 "nbformat": 4,
 "nbformat_minor": 2
}
