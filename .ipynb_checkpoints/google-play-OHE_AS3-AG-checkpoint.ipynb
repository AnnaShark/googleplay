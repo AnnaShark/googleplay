{
 "cells": [
  {
   "cell_type": "code",
   "execution_count": 1,
   "metadata": {},
   "outputs": [],
   "source": [
    "import sys\n",
    "sys.path.append(\"D:\\python\\lib\\site-packages\")\n",
    "\n",
    "%matplotlib inline\n",
    "import matplotlib.pyplot as plt\n",
    "import numpy as np\n",
    "import scipy.io as io\n",
    "import pandas as pd\n",
    "\n",
    "import itertools\n",
    "\n",
    "from sklearn import preprocessing, svm, utils, datasets\n",
    "from sklearn.svm import SVC, LinearSVC, NuSVC\n",
    "from sklearn.preprocessing import LabelEncoder, OneHotEncoder\n",
    "from sklearn.cluster import KMeans\n",
    "from sklearn.model_selection import train_test_split\n",
    "from sklearn.metrics import accuracy_score, classification_report, confusion_matrix\n",
    "from sklearn.neighbors import KNeighborsClassifier\n",
    "from sklearn.naive_bayes import GaussianNB, MultinomialNB, BernoulliNB\n",
    "from sklearn.linear_model import LogisticRegression, SGDClassifier"
   ]
  },
  {
   "cell_type": "code",
   "execution_count": 2,
   "metadata": {},
   "outputs": [
    {
     "name": "stdout",
     "output_type": "stream",
     "text": [
      "(10841, 13)\n",
      "Index(['App', 'Category', 'Rating', 'Reviews', 'Size', 'Installs', 'Type',\n",
      "       'Price', 'Content Rating', 'Genres', 'Last Updated', 'Current Ver',\n",
      "       'Android Ver'],\n",
      "      dtype='object')\n"
     ]
    }
   ],
   "source": [
    "data_app = pd.read_csv('./google-play-store-apps/googleplaystore.csv', sep=',')\n",
    "print(data_app.shape)\n",
    "\n",
    "head = data_app.columns\n",
    "print(head)"
   ]
  },
  {
   "cell_type": "code",
   "execution_count": 3,
   "metadata": {},
   "outputs": [
    {
     "name": "stdout",
     "output_type": "stream",
     "text": [
      "(10841, 13)\n",
      "----\n",
      "0 App\n",
      "1 Category\n",
      "2 Rating\n",
      "3 Reviews\n",
      "4 Size\n",
      "5 Installs\n",
      "6 Type\n",
      "7 Price\n",
      "8 Content Rating\n",
      "9 Genres\n",
      "10 Last Updated\n",
      "11 Current Ver\n",
      "12 Android Ver\n",
      "----\n",
      "THIS:  ['Life Made WI-Fi Touchscreen Photo Frame' '1.9' 19.0 '3.0M' '1,000+'\n",
      " 'Free' '0' 'Everyone' nan 'February 11, 2018' '1.0.19' '4.0 and up' nan]\n",
      "['U Launcher Lite – FREE Live Cool Themes, Hide Apps' 'ART_AND_DESIGN' 4.7\n",
      " '87510' '8.7' 5000000 0 '0' 'Everyone' 'Art & Design' 'August 1, 2018'\n",
      " '1.2.4' '4.0.3 and up']\n"
     ]
    }
   ],
   "source": [
    "print(data_app.shape)\n",
    "\n",
    "head = data_app.columns\n",
    "print(\"----\")\n",
    "for i in range(len(head)):\n",
    "    print(i, head[i])\n",
    "print(\"----\")\n",
    "\n",
    "data_app_c = np.array(data_app)\n",
    "\n",
    "i=0\n",
    "for i in range(len(data_app_c[:])):\n",
    "    if data_app_c[i][5] == \"Free\":\n",
    "        print(\"THIS: \", data_app_c[i])\n",
    "        data_app_c1 = np.delete(data_app_c, i, 0)\n",
    "\n",
    "data_app_c = data_app_c1\n",
    "\n",
    "\n",
    "i=0\n",
    "for i in range(len(data_app_c[:])):\n",
    "    for char in data_app_c[i][5]:\n",
    "        if char in \" ?.!/;:+,\":\n",
    "            data_app_c[i][5] = data_app_c[i][5].replace(char,'')\n",
    "    if float(data_app_c[i][5]) <= 100:\n",
    "        data_app_c[i][5] = 100\n",
    "    if float(data_app_c[i][5]) > 100 and int(data_app_c[i][5])<= 5000:\n",
    "        data_app_c[i][5] = 5000\n",
    "    if float(data_app_c[i][5]) > 5000 and int(data_app_c[i][5])<= 50000:\n",
    "        data_app_c[i][5] = 50000\n",
    "    if float(data_app_c[i][5]) > 50000 and int(data_app_c[i][5])<= 500000:\n",
    "        data_app_c[i][5] = 500000\n",
    "    if float(data_app_c[i][5]) > 500000 and int(data_app_c[i][5])<= 5000000:\n",
    "        data_app_c[i][5] = 5000000\n",
    "    if float(data_app_c[i][5]) > 5000000:\n",
    "        data_app_c[i][5] = 10000000\n",
    "        \n",
    "for i in range(len(data_app_c[:])):\n",
    "    if data_app_c[i][4].endswith(\"M\"):\n",
    "        data_app_c[i][4] = data_app_c[i][4][:-1]\n",
    "    if data_app_c[i][4] == \"Varies with device\":\n",
    "        data_app_c[i][4] = float(\"NaN\")\n",
    "    elif data_app_c[i][4].endswith(\"k\"):\n",
    "        data_app_c[i][4] = float(data_app_c[i][4][:-1])/1000\n",
    "    if data_app_c[i][2] == \"#¡NUM!\":\n",
    "        data_app_c[i][2] = float(\"NaN\")\n",
    "    if data_app_c[i][6] == 'Free':     #free is encoded as 0\n",
    "        data_app_c[i][6] = 0\n",
    "    if data_app_c[i][6] == 'Paid':     #paid is encoded as 1\n",
    "        data_app_c[i][6] = 1 \n",
    " \n",
    "print(data_app_c[2])\n"
   ]
  },
  {
   "cell_type": "code",
   "execution_count": 4,
   "metadata": {},
   "outputs": [
    {
     "name": "stdout",
     "output_type": "stream",
     "text": [
      "(10840, 13)\n",
      "(7723, 13)\n",
      "['U Launcher Lite – FREE Live Cool Themes, Hide Apps' 'ART_AND_DESIGN' 4.7\n",
      " '87510' '8.7' 5000000 0 '0' 'Everyone' 'Art & Design' 'August 1, 2018'\n",
      " '1.2.4' '4.0.3 and up']\n",
      "['U Launcher Lite – FREE Live Cool Themes, Hide Apps' 'ART_AND_DESIGN' 4.7\n",
      " '87510' '8.7' 5000000 0 '0' 'Everyone' 'Art & Design' 'August 1, 2018'\n",
      " '1.2.4' '4.0.3 and up']\n"
     ]
    }
   ],
   "source": [
    "data_app_cN = pd.DataFrame(data_app_c)\n",
    "data_app_cN = data_app_cN .dropna()\n",
    "\n",
    "data_app_cN = data_app_cN.values\n",
    "print(data_app_c.shape)\n",
    "print(data_app_cN.shape)\n",
    "\n",
    "print(data_app_c[2])\n",
    "print(data_app_cN[2])"
   ]
  },
  {
   "cell_type": "code",
   "execution_count": 5,
   "metadata": {},
   "outputs": [
    {
     "name": "stdout",
     "output_type": "stream",
     "text": [
      "(10840, 7)\n",
      "(7723, 7)\n",
      "----\n",
      "----\n",
      "0 Category\n",
      "1 Rating\n",
      "2 Reviews\n",
      "3 Size\n",
      "4 Installs\n",
      "5 Type\n",
      "6 Content Rating\n",
      "----\n"
     ]
    }
   ],
   "source": [
    "#transforming numerical values to float \n",
    "for i in range(len(data_app_c[:])):\n",
    "    data_app_c[i][2] = float(data_app_c[i][2]) #Rating\n",
    "    data_app_c[i][3] = float(data_app_c[i][3]) #Reviews\n",
    "    data_app_c[i][4] = float(data_app_c[i][4]) #Size\n",
    "    data_app_c[i][5] = int(data_app_c[i][5]) #Installs\n",
    "\n",
    "        \n",
    "#delete the name category for everything\n",
    "del_categories = [0, 7, 9, 10, 11, 12]\n",
    "data_app_c = np.delete(data_app_c, del_categories, 1)\n",
    "data_app_cN = np.delete(data_app_cN, del_categories, 1)\n",
    "head = np.delete(head, del_categories)\n",
    "\n",
    "print(data_app_c.shape)\n",
    "print(data_app_cN.shape)\n",
    "print(\"----\")\n",
    "\n",
    "\n",
    "print(\"----\")\n",
    "for i in range(len(head)):\n",
    "    print(i, head[i])\n",
    "print(\"----\")\n",
    "\n",
    "# columns = [1'Category', 2'Rating', 3'Reviews', 4'Size', 5 Installs', 6'Type', 7'Content Rating'])\n"
   ]
  },
  {
   "cell_type": "code",
   "execution_count": 6,
   "metadata": {},
   "outputs": [
    {
     "name": "stdout",
     "output_type": "stream",
     "text": [
      "[[0.0 4.1 159.0 ... 50000 0.0 1.0]\n",
      " [0.0 3.9 967.0 ... 500000 0.0 1.0]\n",
      " [0.0 4.7 87510.0 ... 5000000 0.0 1.0]\n",
      " ...\n",
      " [11.0 4.5 38.0 ... 5000 0.0 1.0]\n",
      " [11.0 5.0 4.0 ... 100 0.0 1.0]\n",
      " [18.0 4.5 398307.0 ... 10000000 0.0 1.0]]\n",
      "(7723, 7)\n"
     ]
    }
   ],
   "source": [
    "le = preprocessing.LabelEncoder()\n",
    "\n",
    "a = le.fit_transform(data_app_cN.T[0].astype(str)) #Category\n",
    "data_app_cN.T[0] = a\n",
    "a = le.fit_transform(data_app_cN.T[5].astype(str)) #Type\n",
    "data_app_cN.T[5] = a\n",
    "a = le.fit_transform(data_app_cN.T[6].astype(str)) #Content Rating\n",
    "data_app_cN.T[6] = a\n",
    "\n",
    "\n",
    "#transforming numerical values to float \n",
    "for i in range(len(data_app_cN[:])):\n",
    "    for h in range(len(head)):\n",
    "        data_app_cN[i][h] = float(data_app_cN[i][h])\n",
    "\n",
    "#transforming numerical values to float \n",
    "for i in range(len(data_app_cN[:])):\n",
    "    data_app_cN[i][4] = int(data_app_cN[i][4])\n",
    "\n",
    "\n",
    "print(data_app_cN)\n",
    "print(data_app_cN.shape)"
   ]
  },
  {
   "cell_type": "markdown",
   "metadata": {},
   "source": [
    "# Feature Importances"
   ]
  },
  {
   "cell_type": "code",
   "execution_count": 28,
   "metadata": {},
   "outputs": [
    {
     "name": "stdout",
     "output_type": "stream",
     "text": [
      "Index(['Category', 'Rating', 'Reviews', 'Size', 'Type', 'Content Rating'], dtype='object')\n",
      "Feature ranking:\n",
      "1. feature 2 (0.503813)\n",
      "Reviews 0.5038128337729724\n",
      "2. feature 3 (0.195398)\n",
      "Size 0.1953975165850007\n",
      "3. feature 1 (0.147305)\n",
      "Rating 0.14730495755803943\n",
      "4. feature 0 (0.118761)\n",
      "Category 0.11876124103256906\n",
      "5. feature 5 (0.019742)\n",
      "Content Rating 0.0197415312108242\n",
      "6. feature 4 (0.014982)\n",
      "Type 0.014981919840594054\n"
     ]
    },
    {
     "data": {
      "image/png": "[encoded data removed]",
      "text/plain": [
       "<Figure size 432x288 with 1 Axes>"
      ]
     },
     "metadata": {
      "needs_background": "light"
     },
     "output_type": "display_data"
    }
   ],
   "source": [
    "#FEATURE IMPORTANCES\n",
    "from sklearn.ensemble import ExtraTreesClassifier\n",
    "\n",
    "Xa = data_app_cN[:, [0, 1, 2, 3, 5, 6]]\n",
    "Ya = data_app_cN[:,4]\n",
    "X_head = np.delete(head, 4)\n",
    "print(X_head)\n",
    "#features_names = np.unique(Ya.astype('int')).astype(\"str\")\n",
    "\n",
    "# Build a forest and compute the feature importances\n",
    "forest = ExtraTreesClassifier(n_estimators=250,\n",
    "                              random_state=0)\n",
    "\n",
    "forest.fit(Xa.astype(\"float\"), Ya.astype(\"int\"))\n",
    "importances = forest.feature_importances_\n",
    "std = np.std([tree.feature_importances_ for tree in forest.estimators_],\n",
    "             axis=0)\n",
    "indices = np.argsort(importances)[::-1]\n",
    "\n",
    "# Print the feature ranking\n",
    "print(\"Feature ranking:\")\n",
    "\n",
    "for f in range(Xa.shape[1]):\n",
    "    print(\"%d. feature %d (%f)\" % (f + 1, indices[f], importances[indices[f]]))\n",
    "    print(X_head[indices[f]], importances[indices[f]])\n",
    "\n",
    "# Plot the feature importances of the forest\n",
    "plt.figure()\n",
    "plt.title(\"Feature importances\")\n",
    "plt.tight_layout()\n",
    "plt.bar(range(Xa.shape[1]), importances[indices],\n",
    "       color=\"r\", yerr=std[indices], align=\"center\")\n",
    "plt.xticks(range(Xa.shape[1]), X_head[indices])\n",
    "plt.xlim([-1, Xa.shape[1]])\n",
    "plt.show()"
   ]
  },
  {
   "cell_type": "markdown",
   "metadata": {},
   "source": [
    "# Classification: fitting and prediction"
   ]
  },
  {
   "cell_type": "code",
   "execution_count": null,
   "metadata": {},
   "outputs": [],
   "source": [
    "# split into input (X) and output (Y) variables\n",
    "Xa = data_app_cN[:, [0, 1, 2, 3, 5, 6]]\n",
    "#Xa = data_app_cN[:, [0, 1, 3, 5, 6]]\n",
    "Ya = data_app_cN[:,4]\n",
    "\n",
    "X_train, X_test, y_train, y_test = train_test_split(Xa, Ya, test_size=0.2, random_state=42)\n",
    "\n",
    "print(X_train, X_test, y_train, y_test)\n",
    "\n",
    "#print(utils.multiclass.type_of_target(y_train.astype('int')))\n",
    "\n",
    "clf = svm.SVC(decision_function_shape='ovo')\n",
    "clf.fit(X_train.astype('float'), y_train.astype('int'))\n",
    "SVC(C=1.0, cache_size=200, class_weight=None, coef0=0.0,\n",
    "    decision_function_shape='ovo', degree=3, gamma='scale', kernel='rbf',\n",
    "    max_iter=-1, probability=False, random_state=None, shrinking=True,\n",
    "    tol=0.001, verbose=False)"
   ]
  },
  {
   "cell_type": "code",
   "execution_count": null,
   "metadata": {
    "scrolled": true
   },
   "outputs": [],
   "source": [
    "pred = clf.predict(X_test.astype('float'))\n",
    "print(X_test.shape)\n",
    "\n",
    "print(\"Accuracy score: \", accuracy_score(y_test.astype('int'), pred.astype(\"int\")))\n",
    "\n",
    "install_win = np.unique(y_train.astype('int')).astype(\"str\")\n",
    "print(install_win)\n",
    "\n",
    "print(classification_report(y_test.astype('int'), pred.astype(\"int\"), target_names=install_win, sample_weight=None, digits=3))"
   ]
  },
  {
   "cell_type": "code",
   "execution_count": null,
   "metadata": {},
   "outputs": [],
   "source": [
    "gnb = GaussianNB()\n",
    "KNN = KNeighborsClassifier(n_neighbors=1)\n",
    "BNB = BernoulliNB()\n",
    "LR = LogisticRegression()\n",
    "SVC = SVC()\n",
    "SDG = SGDClassifier()\n",
    "LSVC = LinearSVC()\n",
    "\n",
    "x1, x2, y1, y2 = X_train, X_test, y_train, y_test\n",
    "\n",
    "# Train our classifier and test predict\n",
    "gnb.fit(x1.astype(\"float\"), y1.astype(\"int\"))\n",
    "y2_GNB_model = gnb.predict(x2.astype(\"float\"))\n",
    "print(\"GaussianNB Accuracy :\", accuracy_score(y2.astype(\"int\"), y2_GNB_model.astype(\"int\")))\n",
    "\n",
    "KNN.fit(x1.astype(\"float\"),y1.astype(\"int\"))\n",
    "y2_KNN_model = KNN.predict(x2.astype(\"float\"))\n",
    "print(\"KNN Accuracy :\", accuracy_score(y2.astype(\"int\"), y2_KNN_model.astype(\"int\")))\n",
    "\n",
    "BNB.fit(x1.astype(\"float\"),y1.astype(\"int\"))\n",
    "y2_BNB_model = BNB.predict(x2.astype(\"float\"))\n",
    "print(\"BNB Accuracy :\", accuracy_score(y2.astype(\"int\"), y2_BNB_model.astype(\"int\")))\n",
    "\n",
    "LR.fit(x1.astype(\"float\"),y1.astype(\"int\"))\n",
    "y2_LR_model = LR.predict(x2.astype(\"float\"))\n",
    "print(\"LR Accuracy :\", accuracy_score(y2.astype(\"int\"), y2_LR_model.astype(\"int\")))\n",
    "\n",
    "SDG.fit(x1.astype(\"float\"),y1.astype(\"int\"))\n",
    "y2_SDG_model = SDG.predict(x2.astype(\"float\"))\n",
    "print(\"SDG Accuracy :\", accuracy_score(y2.astype(\"int\"), y2_SDG_model.astype(\"int\")))\n",
    "\n",
    "SVC.fit(x1.astype(\"float\"),y1.astype(\"int\"))\n",
    "y2_SVC_model = SVC.predict(x2.astype(\"float\"))\n",
    "print(\"SVC Accuracy :\", accuracy_score(y2.astype(\"int\"), y2_SVC_model.astype(\"int\")))\n",
    "\n",
    "LSVC.fit(x1.astype(\"float\"),y1.astype(\"int\"))\n",
    "y2_LSVC_model = LSVC.predict(x2.astype(\"float\"))\n",
    "print(\"LSVC Accuracy :\", accuracy_score(y2.astype(\"int\"), y2_LSVC_model.astype(\"int\")))\n"
   ]
  },
  {
   "cell_type": "markdown",
   "metadata": {},
   "source": [
    "# Confusion Matrix Plotting"
   ]
  },
  {
   "cell_type": "code",
   "execution_count": null,
   "metadata": {
    "scrolled": false
   },
   "outputs": [],
   "source": [
    "class_names = install_win\n",
    "\n",
    "def plot_confusion_matrix(cm, classes,\n",
    "                          normalize=False,\n",
    "                          title='Confusion matrix',\n",
    "                          cmap=plt.cm.Blues):\n",
    "    \"\"\"\n",
    "    This function prints and plots the confusion matrix.\n",
    "    Normalization can be applied by setting `normalize=True`.\n",
    "    \"\"\"\n",
    "    if normalize:\n",
    "        cm = cm.astype('float') / cm.sum(axis=1)[:, np.newaxis]\n",
    "        print(\"Normalized confusion matrix\")\n",
    "    else:\n",
    "        print('Confusion matrix, without normalization')\n",
    "\n",
    "    print(cm)\n",
    "\n",
    "    plt.imshow(cm, interpolation='nearest', cmap=cmap)\n",
    "    plt.title(title)\n",
    "    plt.colorbar()\n",
    "    tick_marks = np.arange(len(classes))\n",
    "    plt.xticks(tick_marks, classes, rotation=45)\n",
    "    plt.yticks(tick_marks, classes)\n",
    "\n",
    "    fmt = '.2f' if normalize else 'd'\n",
    "    thresh = cm.max() / 2.\n",
    "    for i, j in itertools.product(range(cm.shape[0]), range(cm.shape[1])):\n",
    "        plt.text(j, i, format(cm[i, j], fmt),\n",
    "                 horizontalalignment=\"center\",\n",
    "                 color=\"white\" if cm[i, j] > thresh else \"black\")\n",
    "\n",
    "    plt.tight_layout()\n",
    "    plt.ylabel('True label')\n",
    "    plt.xlabel('Predicted label')\n",
    "\n",
    "models = [y2_GNB_model, y2_KNN_model, y2_BNB_model, y2_LR_model, y2_SDG_model, y2_SVC_model, y2_LSVC_model]\n",
    "modelNames = [\"GaussianNB\", \"KNeighborsClassifier\", \"BernoulliNB\", \"LogisticRegression\", \"SGDClassifier\", \"SVC\", \"LinearSVC\"]\n",
    "\n",
    "for i in range(len(models)):\n",
    "    # Compute confusion matrix\n",
    "    cnf_matrix = confusion_matrix(y2.astype(\"int\"), models[i].astype(\"int\"))\n",
    "    np.set_printoptions(precision=2)\n",
    "    \n",
    "    A = (modelNames[i] + ' Confusion Matrix (not normalized)')\n",
    "    B = (modelNames[i] + ' Normalized Confusion Matrix')\n",
    "    \n",
    "    # Plot non-normalized confusion matrix\n",
    "    plt.figure()\n",
    "    plot_confusion_matrix(cnf_matrix, classes=class_names,\n",
    "                          title = A)\n",
    "    plt.savefig(\"./Plots\\Confusion Matrix/All80-20_\"+A+'.png')\n",
    "    # Plot normalized confusion matrix\n",
    "    plt.figure()\n",
    "    plot_confusion_matrix(cnf_matrix, classes=class_names, normalize=True,\n",
    "                          title = B)\n",
    "    plt.savefig(\"./Plots\\Confusion Matrix/All80-20_\"+B+'.png')\n",
    "\n",
    "#plt.show()"
   ]
  }
 ],
 "metadata": {
  "kernelspec": {
   "display_name": "Python 3",
   "language": "python",
   "name": "python3"
  },
  "language_info": {
   "codemirror_mode": {
    "name": "ipython",
    "version": 3
   },
   "file_extension": ".py",
   "mimetype": "text/x-python",
   "name": "python",
   "nbconvert_exporter": "python",
   "pygments_lexer": "ipython3",
   "version": "3.7.0"
  }
 },
 "nbformat": 4,
 "nbformat_minor": 2
}
