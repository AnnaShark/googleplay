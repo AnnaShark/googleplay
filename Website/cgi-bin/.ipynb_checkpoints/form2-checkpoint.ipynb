{
 "cells": [
  {
   "cell_type": "code",
   "execution_count": 11,
   "metadata": {},
   "outputs": [
    {
     "name": "stdout",
     "output_type": "stream",
     "text": [
      "Content-type: text/html\n",
      "\n",
      "<!DOCTYPE HTML>\n",
      "        <html>\n",
      "        <head>\n",
      "            <meta charset=\"utf-8\">\n",
      "            <title>Installs prediction</title>\n",
      "        </head>\n",
      "        <body>\n",
      "<h1>Installs prediction:</h1>\n",
      "<p>Installs: 100</p>\n",
      "</body>\n",
      "        </html>\n"
     ]
    }
   ],
   "source": [
    "#!/usr/bin/env python3\n",
    "import cgi\n",
    "import html\n",
    "import predAS\n",
    "\n",
    "form = cgi.FieldStorage()\n",
    "text1 = form.getfirst(\"TEXT_1\", \"100\")\n",
    "text2 = form.getfirst(\"TEXT_2\", \"4.5\")\n",
    "text1 = html.escape(text1)\n",
    "text2 = html.escape(text2)\n",
    "\n",
    "rev = float(text1)\n",
    "rat = float(text2)\n",
    "\n",
    "\n",
    "print(\"Content-type: text/html\\n\")\n",
    "print(\"\"\"<!DOCTYPE HTML>\n",
    "        <html>\n",
    "        <head>\n",
    "            <meta charset=\"utf-8\">\n",
    "            <title>Installs prediction</title>\n",
    "        </head>\n",
    "        <body>\"\"\")\n",
    "\n",
    "print(\"<h1>Installs prediction:</h1>\")\n",
    "print(\"<p>Installs: {}</p>\".format(y2_KNN_model))\n",
    "\n",
    "print(\"\"\"</body>\n",
    "        </html>\"\"\")"
   ]
  },
  {
   "cell_type": "code",
   "execution_count": null,
   "metadata": {},
   "outputs": [],
   "source": []
  }
 ],
 "metadata": {
  "kernelspec": {
   "display_name": "Python 3",
   "language": "python",
   "name": "python3"
  },
  "language_info": {
   "codemirror_mode": {
    "name": "ipython",
    "version": 3
   },
   "file_extension": ".py",
   "mimetype": "text/x-python",
   "name": "python",
   "nbconvert_exporter": "python",
   "pygments_lexer": "ipython3",
   "version": "3.7.1"
  }
 },
 "nbformat": 4,
 "nbformat_minor": 2
}
